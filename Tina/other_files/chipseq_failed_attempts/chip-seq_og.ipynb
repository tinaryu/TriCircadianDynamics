{
 "cells": [
  {
   "cell_type": "markdown",
   "metadata": {},
   "source": [
    "### Step 1: Extract TSS Regions from GTF File"
   ]
  },
  {
   "cell_type": "code",
   "execution_count": null,
   "metadata": {},
   "outputs": [],
   "source": [
    "import pandas as pd\n",
    "\n",
    "# Load GTF file - replace with your actual file path\n",
    "gtf_df = pd.read_csv('mm39.ncbiRefSeq.gtf', sep='\\t', comment='#', header=None,\n",
    "                     names=['seqname', 'source', 'feature', 'start', 'end', 'score', 'strand', 'frame', 'attribute'])\n",
    "\n",
    "# Filter for genes or transcripts to get TSS\n",
    "tss_df = gtf_df[(gtf_df['feature'] == 'gene') | (gtf_df['feature'] == 'transcript')]\n",
    "\n",
    "# Define a function to extract gene name and TSS based on the strand\n",
    "def extract_tss_info(row):\n",
    "    attributes = {key.strip(): value.strip() for key, value in\n",
    "                  (item.split(' ') for item in row['attribute'].strip(';').split(';'))}\n",
    "    gene_name = attributes.get('gene_name', '').replace('\"', '')\n",
    "    tss_start = row['start'] if row['strand'] == '+' else row['end']\n",
    "    return pd.Series([gene_name, tss_start], index=['gene_name', 'tss_start'])\n",
    "\n",
    "# Apply function to get TSS positions\n",
    "tss_df[['gene_name', 'tss_start']] = tss_df.apply(extract_tss_info, axis=1)\n",
    "\n",
    "# Calculate TSS regions (2000 bp upstream and downstream)\n",
    "tss_df['tss_start'] = tss_df['tss_start'].astype(int)\n",
    "tss_df['tss_end'] = tss_df['tss_start']\n",
    "tss_df.loc[tss_df['strand'] == '+', 'tss_start'] -= 2000\n",
    "tss_df.loc[tss_df['strand'] == '-', 'tss_end'] += 2000\n",
    "\n",
    "# Ensure start is always less than end\n",
    "tss_df['start'] = tss_df[['tss_start', 'tss_end']].min(axis=1)\n",
    "tss_df['end'] = tss_df[['tss_start', 'tss_end']].max(axis=1)\n",
    "\n",
    "# Create BED file format\n",
    "tss_bed = tss_df[['seqname', 'start', 'end', 'gene_name', 'score', 'strand']]\n",
    "\n",
    "# Write BED file - replace with your actual file path\n",
    "tss_bed.to_csv('tss_regions.bed', sep='\\t', header=False, index=False)\n"
   ]
  },
  {
   "cell_type": "markdown",
   "metadata": {},
   "source": [
    "### Step 2: Run BEDTools to Calculate Read Counts"
   ]
  },
  {
   "cell_type": "code",
   "execution_count": null,
   "metadata": {},
   "outputs": [],
   "source": [
    "# BED file with TSS regions\n",
    "TSS_BED=\"tss_regions.bed\"\n",
    "\n",
    "# BAM files for WT and GF\n",
    "declare -a BAM_FILES=(\"CV-H3K9ac_1.sort.bam\" \"CV-H3K9ac_2.sort.bam\" \"CV-H3K9ac_3.sort.bam\" \"CV-H3K9ac_4.sort.bam\" \"CV-H3K9ac_5.sort.bam\" \"CV-H3K9ac_6.sort.bam\" \"GF-H3K9ac_1.sort.bam\" \"GF-H3K9ac_2.sort.bam\" \"GF-H3K9ac_3.sort.bam\" \"GF-H3K9ac_4.sort.bam\")\n",
    "\n",
    "# Loop through each BAM file and count reads in TSS regions\n",
    "for BAM_FILE in \"${BAM_FILES[@]}\"\n",
    "do\n",
    "    bedtools coverage -a \"$TSS_BED\" -b \"$BAM_FILE\" > \"${BAM_FILE}_tss_counts.txt\"\n",
    "done\n"
   ]
  },
  {
   "cell_type": "markdown",
   "metadata": {},
   "source": [
    "### Step 3: Compile Results into a Table"
   ]
  },
  {
   "cell_type": "code",
   "execution_count": null,
   "metadata": {},
   "outputs": [],
   "source": [
    "# Collect all counts into a dictionary\n",
    "counts = {}\n",
    "for bam_file in BAM_FILES:\n",
    "    counts[bam_file] = pd.read_csv(f\"{bam_file}_tss_counts.txt\", sep='\\t', header=None,\n",
    "                                   names=['chrom', 'start', 'end', 'gene_name', 'score', 'strand', 'count'])\n",
    "\n",
    "# Convert dictionary to DataFrame\n",
    "all_counts_df = pd.DataFrame(counts)\n",
    "\n",
    "# Pivot table to have one row per gene and one column\n"
   ]
  }
 ],
 "metadata": {
  "kernelspec": {
   "display_name": "Python 3",
   "language": "python",
   "name": "python3"
  },
  "language_info": {
   "codemirror_mode": {
    "name": "ipython",
    "version": 3
   },
   "file_extension": ".py",
   "mimetype": "text/x-python",
   "name": "python",
   "nbconvert_exporter": "python",
   "pygments_lexer": "ipython3",
   "version": "3.11.8"
  }
 },
 "nbformat": 4,
 "nbformat_minor": 2
}
