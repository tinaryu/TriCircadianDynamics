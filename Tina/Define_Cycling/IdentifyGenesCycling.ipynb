{
 "cells": [
  {
   "cell_type": "code",
   "execution_count": 1,
   "metadata": {},
   "outputs": [],
   "source": [
    "import pandas as pd"
   ]
  },
  {
   "cell_type": "code",
   "execution_count": 29,
   "metadata": {},
   "outputs": [],
   "source": [
    "def GetFpath(reg):\n",
    "    return f'/Users/tinaryu/Documents/KuangLab/TriCircadianDynamics/Tina/data/ZK4grp_fpkm_extracted/nonrep/{reg}_WT.txt'\n",
    "\n",
    "def GetFpathMC(reg):\n",
    "    return f'/Users/tinaryu/Documents/KuangLab/TriCircadianDynamics/Tina/data/metacycle_outputs/meta2d_{reg}_WT.txt'"
   ]
  },
  {
   "cell_type": "code",
   "execution_count": 32,
   "metadata": {},
   "outputs": [],
   "source": [
    "def GetCyclincGenes(reg):\n",
    "    path = GetFpathMC(reg)\n",
    "    df = pd.read_csv(path, sep='\\t', index_col=0)\n",
    "    filtered = df[df['meta2d_pvalue'].lt(0.05)]\n",
    "    return filtered.index.tolist()"
   ]
  },
  {
   "cell_type": "code",
   "execution_count": 21,
   "metadata": {},
   "outputs": [],
   "source": [
    "def GetExpressedGeneList(reg):\n",
    "    fpath = GetFpath(reg)\n",
    "    df = pd.read_csv(fpath, sep='\\t', index_col=0)\n",
    "    filtered_genes = df[df.gt(1).any(axis=1)]\n",
    "    return filtered_genes.index.tolist()"
   ]
  },
  {
   "cell_type": "code",
   "execution_count": 28,
   "metadata": {},
   "outputs": [
    {
     "name": "stdout",
     "output_type": "stream",
     "text": [
      "number of genes with >1 fpkm in at least one time point\n",
      "hdac3 11524\n",
      "nr1d1 12345\n",
      "nfil3 11310\n"
     ]
    }
   ],
   "source": [
    "ExpressedGenes = {}\n",
    "regs = ['hdac3','nr1d1','nfil3']\n",
    "print('number of genes with >1 fpkm in at least one time point')\n",
    "for reg in regs:\n",
    "    ExpressedGenes[reg] = GetExpressedGeneList(reg)\n",
    "    print(reg, len(ExpressedGenes[reg]))"
   ]
  },
  {
   "cell_type": "code",
   "execution_count": 34,
   "metadata": {},
   "outputs": [
    {
     "name": "stdout",
     "output_type": "stream",
     "text": [
      "number of cycling genes\n",
      "hdac3 8629\n",
      "nr1d1 7299\n",
      "nfil3 6284\n"
     ]
    }
   ],
   "source": [
    "CyclingGenes = {}\n",
    "\n",
    "print('number of cycling genes')\n",
    "for reg in regs:\n",
    "    CyclingGenes[reg] = GetCyclincGenes(reg)\n",
    "    print(reg, len(CyclingGenes[reg]))"
   ]
  },
  {
   "cell_type": "code",
   "execution_count": 40,
   "metadata": {},
   "outputs": [
    {
     "name": "stdout",
     "output_type": "stream",
     "text": [
      "number of genes with >1 fpkm in at least one time point and cycling\n",
      "hdac3 6231\n",
      "nr1d1 5256\n",
      "nfil3 4493\n"
     ]
    }
   ],
   "source": [
    "ExpressedCyclingGenes = {}\n",
    "print('number of genes with >1 fpkm in at least one time point and cycling')\n",
    "for reg in regs:\n",
    "    ExpressedCyclingGenes[reg] = list(set(ExpressedGenes[reg]) & set(CyclingGenes[reg]))\n",
    "    print(reg, len(ExpressedCyclingGenes[reg]))"
   ]
  },
  {
   "cell_type": "code",
   "execution_count": 39,
   "metadata": {},
   "outputs": [
    {
     "data": {
      "text/plain": [
       "9960"
      ]
     },
     "execution_count": 39,
     "metadata": {},
     "output_type": "execute_result"
    }
   ],
   "source": [
    "combined_expressed_cycling_genes = list(set(ExpressedCyclingGenes['hdac3']) | set(ExpressedCyclingGenes['nr1d1']) | set(ExpressedCyclingGenes['nfil3']))\n",
    "len(combined_expressed_cycling_genes)"
   ]
  }
 ],
 "metadata": {
  "kernelspec": {
   "display_name": "base",
   "language": "python",
   "name": "python3"
  },
  "language_info": {
   "codemirror_mode": {
    "name": "ipython",
    "version": 3
   },
   "file_extension": ".py",
   "mimetype": "text/x-python",
   "name": "python",
   "nbconvert_exporter": "python",
   "pygments_lexer": "ipython3",
   "version": "3.11.0"
  }
 },
 "nbformat": 4,
 "nbformat_minor": 2
}
