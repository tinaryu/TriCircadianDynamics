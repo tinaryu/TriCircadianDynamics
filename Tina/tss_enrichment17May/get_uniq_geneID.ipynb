{
 "cells": [
  {
   "cell_type": "code",
   "execution_count": 29,
   "metadata": {},
   "outputs": [],
   "source": [
    "import pandas as pd"
   ]
  },
  {
   "cell_type": "code",
   "execution_count": 30,
   "metadata": {},
   "outputs": [],
   "source": [
    "df_hdac3 = pd.read_csv('hdac3_dep_geneID.txt')\n",
    "df_nfil3 = pd.read_csv('nfil3_dep_geneID.txt')\n",
    "df_nr1d1 = pd.read_csv('nr1d1_dep_geneID.txt')\n",
    "\n",
    "hdac3 = set(df_hdac3['CycID'])\n",
    "nfil3 = set(df_nfil3['CycID'])\n",
    "nr1d1 = set(df_nr1d1['CycID'])\n",
    "\n",
    "uniq_hdac3 = hdac3 - nfil3 - nr1d1\n",
    "uniq_nfil3 = nfil3 - hdac3 - nr1d1\n",
    "uniq_nr1d1 = nr1d1 - hdac3 - nfil3"
   ]
  },
  {
   "cell_type": "code",
   "execution_count": 31,
   "metadata": {},
   "outputs": [],
   "source": [
    "h = sorted(list(uniq_hdac3))\n",
    "f = sorted(list(uniq_nfil3))\n",
    "r = sorted(list(uniq_nr1d1))"
   ]
  },
  {
   "cell_type": "code",
   "execution_count": 32,
   "metadata": {},
   "outputs": [],
   "source": [
    "h_d = {'CycID':h}\n",
    "f_d = {'CycID':f}\n",
    "r_d = {'CycID':r}"
   ]
  },
  {
   "cell_type": "code",
   "execution_count": 33,
   "metadata": {},
   "outputs": [],
   "source": [
    "pd.DataFrame(h_d).to_csv('hdac3_uniq_ID.txt',index=False)\n",
    "pd.DataFrame(f_d).to_csv('nfil3_uniq_ID.txt',index=False)\n",
    "pd.DataFrame(r_d).to_csv('nr1d1_uniq_ID.txt',index=False)"
   ]
  }
 ],
 "metadata": {
  "kernelspec": {
   "display_name": "base",
   "language": "python",
   "name": "python3"
  },
  "language_info": {
   "codemirror_mode": {
    "name": "ipython",
    "version": 3
   },
   "file_extension": ".py",
   "mimetype": "text/x-python",
   "name": "python",
   "nbconvert_exporter": "python",
   "pygments_lexer": "ipython3",
   "version": "3.11.5"
  }
 },
 "nbformat": 4,
 "nbformat_minor": 2
}
