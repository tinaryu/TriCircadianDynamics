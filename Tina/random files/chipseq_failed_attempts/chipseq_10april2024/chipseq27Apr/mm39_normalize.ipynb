{
 "cells": [
  {
   "cell_type": "code",
   "execution_count": 5,
   "metadata": {},
   "outputs": [
    {
     "data": {
      "text/plain": [
       "50049688"
      ]
     },
     "execution_count": 5,
     "metadata": {},
     "output_type": "execute_result"
    }
   ],
   "source": [
    "import pandas as pd\n",
    "\n",
    "# Load the count table\n",
    "count_table_path = 'count_table_new.txt'\n",
    "count_df = pd.read_csv(count_table_path, sep='\\t', index_col='Gene ID')\n",
    "\n",
    "# Mapped read counts for each BAM file with corrected keys if necessary\n",
    "mapped_reads = {\n",
    "    'GF-H3K9ac_1.sort.bam': 23181470,\n",
    "    'GF-H3K9ac_2.sort.bam': 32969015,\n",
    "    'GF-H3K9ac_3.sort.bam': 26425333,\n",
    "    'GF-H3K9ac_4.sort.bam': 25698509,\n",
    "    'CV-H3K9ac_1.sort.bam': 9799442,\n",
    "    'CV-H3K9ac_2.sort.bam': 7228047,\n",
    "    'CV-H3K9ac_3.sort.bam': 28301531,\n",
    "    'CV-H3K9ac_4.sort.bam': 4694190,\n",
    "    'CV-H3K9ac_5.sort.bam': 3470347,\n",
    "    'CV-H3K9ac_6.sort.bam': 3412814\n",
    "}\n",
    "\n",
    "c = sum(count_df.iloc[:,6]) #GF1 on column 6\n",
    "c\n",
    "# sum of column 6 is 50,049,688 \n",
    "# mapped read from GF-H3K9ac_1.sort.bam is 23,181,470"
   ]
  }
 ],
 "metadata": {
  "kernelspec": {
   "display_name": "base",
   "language": "python",
   "name": "python3"
  },
  "language_info": {
   "codemirror_mode": {
    "name": "ipython",
    "version": 3
   },
   "file_extension": ".py",
   "mimetype": "text/x-python",
   "name": "python",
   "nbconvert_exporter": "python",
   "pygments_lexer": "ipython3",
   "version": "3.11.5"
  }
 },
 "nbformat": 4,
 "nbformat_minor": 2
}
