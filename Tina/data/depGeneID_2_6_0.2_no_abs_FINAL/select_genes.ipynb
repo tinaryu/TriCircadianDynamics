{
 "cells": [
  {
   "cell_type": "code",
   "execution_count": 1,
   "metadata": {},
   "outputs": [],
   "source": [
    "import pandas as pd"
   ]
  },
  {
   "cell_type": "code",
   "execution_count": 17,
   "metadata": {},
   "outputs": [],
   "source": [
    "hdac3 = pd.read_csv('hdac3_dep_geneID.txt')\n",
    "nfil3 = pd.read_csv('nfil3_dep_geneID.txt')\n",
    "nr1d1 = pd.read_csv('nr1d1_dep_geneID.txt')\n",
    "\n",
    "hdac3 = set(hdac3['CycID'])\n",
    "nfil3 = set(nfil3['CycID'])\n",
    "nr1d1 = set(nr1d1['CycID'])"
   ]
  },
  {
   "cell_type": "code",
   "execution_count": 23,
   "metadata": {},
   "outputs": [],
   "source": [
    "core_genes = hdac3 & nr1d1 & nfil3\n",
    "core_genes = pd.DataFrame(list(core_genes))\n",
    "core_genes.to_csv('core_genes.txt', index=False, header=False)"
   ]
  }
 ],
 "metadata": {
  "kernelspec": {
   "display_name": "base",
   "language": "python",
   "name": "python3"
  },
  "language_info": {
   "codemirror_mode": {
    "name": "ipython",
    "version": 3
   },
   "file_extension": ".py",
   "mimetype": "text/x-python",
   "name": "python",
   "nbconvert_exporter": "python",
   "pygments_lexer": "ipython3",
   "version": "3.11.0"
  }
 },
 "nbformat": 4,
 "nbformat_minor": 2
}
