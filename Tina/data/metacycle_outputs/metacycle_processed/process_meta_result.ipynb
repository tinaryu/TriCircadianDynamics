{
 "cells": [
  {
   "cell_type": "code",
   "execution_count": 25,
   "metadata": {},
   "outputs": [],
   "source": [
    "import pandas as pd"
   ]
  },
  {
   "cell_type": "code",
   "execution_count": 55,
   "metadata": {},
   "outputs": [],
   "source": [
    "fname = '../../CVGFvenn_geneID/WT_only.txt'\n",
    "df = pd.read_csv(fname, sep='\\t',header=None)\n",
    "CVonlyGenes = df[0].tolist()"
   ]
  },
  {
   "cell_type": "code",
   "execution_count": 64,
   "metadata": {},
   "outputs": [],
   "source": [
    "def ProcessMeta2dResults(group):\n",
    "    WT = pd.read_csv(f\"../meta2d_{group}_WT.txt\",sep=\"\\t\",index_col='CycID').iloc[:,15:] #only keep the meta2d columns\n",
    "    KO = pd.read_csv(f\"../meta2d_{group}_KO.txt\",sep=\"\\t\",index_col='CycID').iloc[:,15:] \n",
    "    WT.columns = [f\"WT_{i}\" for i in WT.columns]\n",
    "    KO.columns = [f\"KO_{i}\" for i in KO.columns]\n",
    "    WTKO = pd.concat([WT,KO],axis=1)\n",
    "\n",
    "    WTKO = WTKO.loc[CVonlyGenes] #only keep the CV oscillating genes\n",
    "\n",
    "    WTKO['rAMP_meta2d_WTdivKO'] = WTKO['WT_meta2d_rAMP']/WTKO['KO_meta2d_rAMP']\n",
    "    WTKO['rAMP_meta2d_WTsubKO'] = WTKO['WT_meta2d_rAMP']-WTKO['KO_meta2d_rAMP']\n",
    "    WTKO['phase_meta2d_abs_WTsubKO'] = abs(WTKO['WT_meta2d_phase']-WTKO['KO_meta2d_phase'])\n",
    "    #update phase difference value to be between 0 and 12 (in 24 h day/light cycle) \n",
    "    #if x is > 12, then x = 24-x\n",
    "    filt = WTKO['phase_meta2d_abs_WTsubKO']>12\n",
    "    WTKO.loc[filt,'phase_meta2d_abs_WTsubKO'] = 24-WTKO.loc[filt,'phase_meta2d_abs_WTsubKO']\n",
    "\n",
    "    WTKO.to_csv(f\"meta2d_{group}.csv\",sep=\",\")\n",
    "\n",
    "groups = ['nr1d1','hdac3','nfil3']\n",
    "\n",
    "for group in groups:\n",
    "    ProcessMeta2dResults(group)"
   ]
  }
 ],
 "metadata": {
  "kernelspec": {
   "display_name": "base",
   "language": "python",
   "name": "python3"
  },
  "language_info": {
   "codemirror_mode": {
    "name": "ipython",
    "version": 3
   },
   "file_extension": ".py",
   "mimetype": "text/x-python",
   "name": "python",
   "nbconvert_exporter": "python",
   "pygments_lexer": "ipython3",
   "version": "3.11.0"
  }
 },
 "nbformat": 4,
 "nbformat_minor": 2
}
