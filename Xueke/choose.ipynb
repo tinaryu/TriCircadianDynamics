{
 "cells": [
  {
   "cell_type": "code",
   "execution_count": 1,
   "metadata": {},
   "outputs": [],
   "source": [
    "def filter_genes(meta_file, gene_file, prefix):\n",
    "    with open(gene_file, 'r') as f:\n",
    "        genes = [line.strip() for line in f.readlines()]\n",
    "\n",
    "    selected_rows = []\n",
    "\n",
    "    with open(meta_file, 'r') as f:\n",
    "        header = f.readline().strip()\n",
    "        selected_rows.append(header)\n",
    "\n",
    "        for line in f:\n",
    "            gene = line.split('\\t')[0]\n",
    "            if gene in genes:\n",
    "                selected_rows.append(line.strip())\n",
    "\n",
    "    output_file = f\"{prefix}_{meta_file}\"\n",
    "    with open(output_file, 'w') as f:\n",
    "        for row in selected_rows:\n",
    "            f.write(row + '\\n')\n",
    "\n",
    "\n",
    "gene_files = [('WT_only.txt', 'wtonly'), ('GF_only.txt', 'gfonly'), ('shared.txt', 'shared')]\n",
    "meta_files = [\n",
    "    'meta2d_nfil3_WT.txt', 'meta2d_nfil3_KO.txt',\n",
    "    'meta2d_nr1d1_WT.txt', 'meta2d_nr1d1_KO.txt',\n",
    "    'meta2d_hdac3_WT.txt', 'meta2d_hdac3_KO.txt'\n",
    "]\n",
    "\n",
    "for gene_file, prefix in gene_files:\n",
    "    for meta_file in meta_files:\n",
    "        filter_genes(meta_file, gene_file, prefix)\n",
    "\n",
    "\n",
    "gf_meta_file = 'meta2d_GF.txt'\n",
    "for gene_file, prefix in gene_files:\n",
    "    filter_genes(gf_meta_file, gene_file, prefix)\n",
    "\n"
   ]
  },
  {
   "cell_type": "code",
   "execution_count": 4,
   "metadata": {},
   "outputs": [],
   "source": []
  }
 ],
 "metadata": {
  "kernelspec": {
   "display_name": "Python 3",
   "language": "python",
   "name": "python3"
  },
  "language_info": {
   "codemirror_mode": {
    "name": "ipython",
    "version": 3
   },
   "file_extension": ".py",
   "mimetype": "text/x-python",
   "name": "python",
   "nbconvert_exporter": "python",
   "pygments_lexer": "ipython3",
   "version": "3.11.9"
  }
 },
 "nbformat": 4,
 "nbformat_minor": 2
}
